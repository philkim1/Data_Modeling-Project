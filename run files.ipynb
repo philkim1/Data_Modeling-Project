{
 "cells": [
  {
   "cell_type": "code",
   "execution_count": 2,
   "metadata": {},
   "outputs": [],
   "source": [
    "import pandas as pd\n",
    "import boto3\n",
    "import json\n",
    "import os\n",
    "import psycopg2"
   ]
  },
  {
   "cell_type": "code",
   "execution_count": null,
   "metadata": {},
   "outputs": [],
   "source": [
    "key = ''\n",
    "secret = ''\n",
    "\n",
    "ec2 = boto3.resource('ec2',\n",
    "                    region_name='us-east-1',\n",
    "                    aws_access_key_id=key,\n",
    "                    aws_secret_access_key=secret)\n",
    "\n",
    "s3 = boto3.resource('s3',\n",
    "                    region_name='us-east-1',\n",
    "                    aws_access_key_id=key,\n",
    "                    aws_secret_access_key=secret)\n",
    "\n",
    "iam = boto3.client('iam',\n",
    "                    region_name='us-east-1',\n",
    "                    aws_access_key_id=key,\n",
    "                    aws_secret_access_key=secret)\n",
    "\n",
    "redshift = boto3.client('redshift',\n",
    "                    region_name='us-east-1',\n",
    "                    aws_access_key_id=key,\n",
    "                    aws_secret_access_key=secret)"
   ]
  },
  {
   "cell_type": "code",
   "execution_count": 1,
   "metadata": {},
   "outputs": [],
   "source": [
    "%run create_tables.py"
   ]
  },
  {
   "cell_type": "code",
   "execution_count": 2,
   "metadata": {},
   "outputs": [
    {
     "name": "stdout",
     "output_type": "stream",
     "text": [
      "loading \n",
      "    copy events from 's3://udacity-dend/log_data'    credentials 'aws_iam_role=arn:aws:iam::464175583074:role/dwhRole'    json 's3://udacity-dend/log_json_path.json'    region 'us-west-2'    timeformat as 'epochmillisecs'\n",
      "\n",
      "loading \n",
      "    copy songs from 's3://udacity-dend/song_data'    credentials 'aws_iam_role=arn:aws:iam::464175583074:role/dwhRole'    json 'auto'    region 'us-west-2'\n",
      "loading insert into songplay (songplay_id, start_time, user_id, level, song_id, artist_id,                                                     session_id, location, user_agent)\n",
      "    select e.registration,\n",
      "           e.ts::time as start_time,\n",
      "           e.userId,\n",
      "           e.level,\n",
      "           s.song_id,\n",
      "           s.artist_id,\n",
      "           e.sessionId,\n",
      "           e.location,\n",
      "           e.userAgent\n",
      "    from events e\n",
      "    join songs s on (s.artist_name=e.artist)\n",
      "    where e.page='NextSong';\n",
      "\n",
      "loading insert into user1 (user_id, first_name, last_name, gender, level)\n",
      "    select e.userId,\n",
      "           e.firstName,\n",
      "           e.lastName,\n",
      "           e.gender,\n",
      "           e.level\n",
      "    from events e;\n",
      "\n",
      "loading insert into song (song_id, title, artist_id, year, duration)\n",
      "    select s.song_id,\n",
      "           s.title,\n",
      "           s.artist_id,\n",
      "           s.year,\n",
      "           s.duration\n",
      "    from songs s;\n",
      "\n",
      "loading insert into artist (artist_id, name, location, latitude, longitude)\n",
      "    select s.artist_id,\n",
      "           s.artist_name,\n",
      "           s.artist_location,\n",
      "           s.artist_latitude,\n",
      "           s.artist_longitude\n",
      "    from songs s;\n",
      "\n",
      "loading insert into times (start_time, hour, day, week, month, year, weekday)\n",
      "    select ts::time as start_time,\n",
      "           extract(hour from ts) as hour,\n",
      "           extract(day from ts) as day,\n",
      "           extract(week from ts) as week,\n",
      "           extract(month from ts) as month,\n",
      "           extract(year from ts) as year,\n",
      "           case when extract(DOW from ts) in (6,0) then false else true end as weekday\n",
      "    from events;\n",
      "\n"
     ]
    }
   ],
   "source": [
    "%run etl.py"
   ]
  },
  {
   "cell_type": "code",
   "execution_count": null,
   "metadata": {},
   "outputs": [],
   "source": []
  }
 ],
 "metadata": {
  "kernelspec": {
   "display_name": "Python 3",
   "language": "python",
   "name": "python3"
  },
  "language_info": {
   "codemirror_mode": {
    "name": "ipython",
    "version": 3
   },
   "file_extension": ".py",
   "mimetype": "text/x-python",
   "name": "python",
   "nbconvert_exporter": "python",
   "pygments_lexer": "ipython3",
   "version": "3.6.3"
  }
 },
 "nbformat": 4,
 "nbformat_minor": 2
}
